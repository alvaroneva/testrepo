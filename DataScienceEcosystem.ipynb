{
 "cells": [
  {
   "cell_type": "markdown",
   "id": "e2ca578c-30f7-486c-8aa1-635e07347e07",
   "metadata": {},
   "source": [
    "# Data Science Tools and Ecosystem."
   ]
  },
  {
   "cell_type": "markdown",
   "id": "81a64fa0-b867-415d-9907-0afd42e97939",
   "metadata": {},
   "source": [
    "**In this notebook, we will use the tools of data science to obtain information and solutions from our ecosystems.**"
   ]
  },
  {
   "cell_type": "markdown",
   "id": "2b414d82-0abf-4058-a6e8-42f7cfa27435",
   "metadata": {},
   "source": [
    "**Objectives:**"
   ]
  },
  {
   "cell_type": "markdown",
   "id": "85c75451-e8d0-4a86-a574-5a60f9475c23",
   "metadata": {},
   "source": [
    "- List popular languages for Data Science\n",
    "- List popular Libraries for Data Science\n",
    "- List some Open Source Tools for Data Science\n",
    "- Do some arithmetic operations with Python"
   ]
  },
  {
   "cell_type": "markdown",
   "id": "8c6997fb-7d7c-4286-adfa-0c8859f66482",
   "metadata": {},
   "source": [
    "Some of the popular languages that Data Scientists use are:"
   ]
  },
  {
   "cell_type": "markdown",
   "id": "b12fae66-e2c4-4f0a-b504-f8b0727c9362",
   "metadata": {},
   "source": [
    "1. Python\n",
    "2. Java\n",
    "3. SQL\n",
    "4. Scala\n",
    "5. C++"
   ]
  },
  {
   "cell_type": "markdown",
   "id": "77092951-6cd5-4aaf-b1fd-92d987ef4e43",
   "metadata": {},
   "source": [
    "Below we will list the libraries most commonly used by data scientists."
   ]
  },
  {
   "cell_type": "markdown",
   "id": "0e6af239-afae-49c9-b8ee-7a0e54c28ac5",
   "metadata": {},
   "source": [
    "1. Tensor Flow\n",
    "2. NumPy\n",
    "3. Matplotlib\n",
    "4. Pandas"
   ]
  },
  {
   "cell_type": "markdown",
   "id": "34e4211b-63d6-4a89-a314-8c7ea4b2a122",
   "metadata": {},
   "source": [
    "| Data Science Tools |\n",
    "| -------------|\n",
    "| Jupyter Lab |\n",
    "| RS Studio | \n",
    "| Apache Spark | "
   ]
  },
  {
   "cell_type": "markdown",
   "id": "3cdd0a21-1609-4248-8a87-a2bf8bd81edf",
   "metadata": {},
   "source": [
    "### Examples of arithmetic operations in Python are shown below."
   ]
  },
  {
   "cell_type": "markdown",
   "id": "bea8678a-1ef2-43f4-9ac9-e8f5be7848f5",
   "metadata": {},
   "source": [
    "This a simple arithmetic expression to mutiply then add integers"
   ]
  },
  {
   "cell_type": "code",
   "execution_count": 3,
   "id": "4aee3696-deeb-45a8-9c19-d813d4c40a30",
   "metadata": {
    "tags": []
   },
   "outputs": [
    {
     "data": {
      "text/plain": [
       "17"
      ]
     },
     "execution_count": 3,
     "metadata": {},
     "output_type": "execute_result"
    }
   ],
   "source": [
    "(3*4)+5"
   ]
  },
  {
   "cell_type": "markdown",
   "id": "9f54fea9-ec11-44dd-a24a-608df546c29d",
   "metadata": {},
   "source": [
    "The conversion of 200 minutes to Hours is to be carried out."
   ]
  },
  {
   "cell_type": "code",
   "execution_count": 4,
   "id": "a68b5ca7-9933-4e1c-b45e-f15999a34c9e",
   "metadata": {
    "tags": []
   },
   "outputs": [
    {
     "data": {
      "text/plain": [
       "3.3333333333333335"
      ]
     },
     "execution_count": 4,
     "metadata": {},
     "output_type": "execute_result"
    }
   ],
   "source": [
    "200/60"
   ]
  },
  {
   "cell_type": "markdown",
   "id": "d870b469-6e03-4e6c-998b-154aacdc7414",
   "metadata": {},
   "source": [
    "## Author"
   ]
  },
  {
   "cell_type": "markdown",
   "id": "fafac0f4-44ba-4236-a454-1d594681196f",
   "metadata": {},
   "source": [
    "Álvaro Rodríguez Nevado"
   ]
  },
  {
   "cell_type": "code",
   "execution_count": null,
   "id": "cf8b2e28-db5a-4fbb-809f-8383b0750c45",
   "metadata": {},
   "outputs": [],
   "source": []
  }
 ],
 "metadata": {
  "kernelspec": {
   "display_name": "Python",
   "language": "python",
   "name": "conda-env-python-py"
  },
  "language_info": {
   "codemirror_mode": {
    "name": "ipython",
    "version": 3
   },
   "file_extension": ".py",
   "mimetype": "text/x-python",
   "name": "python",
   "nbconvert_exporter": "python",
   "pygments_lexer": "ipython3",
   "version": "3.7.12"
  }
 },
 "nbformat": 4,
 "nbformat_minor": 5
}
